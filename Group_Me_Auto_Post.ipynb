{
  "cells": [
    {
      "cell_type": "markdown",
      "metadata": {
        "id": "view-in-github",
        "colab_type": "text"
      },
      "source": [
        "<a href=\"https://colab.research.google.com/github/TechWithTy/Group_Me_Bots/blob/Colabs/Group_Me_Auto_Post.ipynb\" target=\"_parent\"><img src=\"https://colab.research.google.com/assets/colab-badge.svg\" alt=\"Open In Colab\"/></a>"
      ]
    },
    {
      "cell_type": "code",
      "execution_count": 56,
      "metadata": {
        "id": "hKE87Hl0NXwi",
        "colab": {
          "base_uri": "https://localhost:8080/"
        },
        "outputId": "c6093edb-3d01-4624-f3f2-892808106e9a"
      },
      "outputs": [
        {
          "output_type": "stream",
          "name": "stdout",
          "text": [
            "Looking in indexes: https://pypi.org/simple, https://us-python.pkg.dev/colab-wheels/public/simple/\n",
            "\u001b[31mERROR: Could not find a version that satisfies the requirement json (from versions: none)\u001b[0m\u001b[31m\n",
            "\u001b[0m\u001b[31mERROR: No matching distribution found for json\u001b[0m\u001b[31m\n",
            "\u001b[0mLooking in indexes: https://pypi.org/simple, https://us-python.pkg.dev/colab-wheels/public/simple/\n",
            "Requirement already satisfied: markdown in /usr/local/lib/python3.9/dist-packages (3.4.1)\n",
            "Requirement already satisfied: importlib-metadata>=4.4 in /usr/local/lib/python3.9/dist-packages (from markdown) (6.1.0)\n",
            "Requirement already satisfied: zipp>=0.5 in /usr/local/lib/python3.9/dist-packages (from importlib-metadata>=4.4->markdown) (3.15.0)\n"
          ]
        }
      ],
      "source": [
        "%pip install json\n",
        "%pip install markdown"
      ]
    },
    {
      "cell_type": "code",
      "source": [
        "#@title Format Text\n",
        "formatted_text = f\"\"\"\\\n",
        "*Weed* 🌲\n",
        "*SHERBERT* 🍧\n",
        "Gushers\n",
        "\n",
        "\n",
        "\"\"\"\n",
        "\n",
        "print(formatted_text)\n"
      ],
      "metadata": {
        "colab": {
          "base_uri": "https://localhost:8080/"
        },
        "id": "uAMJAgq5ymjM",
        "outputId": "59b25179-7a8f-4d6d-980c-a4480704a0fb"
      },
      "execution_count": 58,
      "outputs": [
        {
          "output_type": "stream",
          "name": "stdout",
          "text": [
            "*Weed* 🌲\n",
            "*SHERBERT* 🍧\n",
            "Gushers\n",
            "\n",
            "\n",
            "\n"
          ]
        }
      ]
    },
    {
      "cell_type": "code",
      "execution_count": null,
      "metadata": {
        "colab": {
          "background_save": true
        },
        "id": "8FMpaTOkcqJX",
        "cellView": "form"
      },
      "outputs": [],
      "source": [
        "#@title Add a bot to all groups you have authority in\n",
        "import requests\n",
        "import json\n",
        "Zb_Promo = \"sfWtsmhMR1II4z7WKxPqtXXV7ny10lM1SDnn0QbV\"\n",
        "Bot_Name = 'Zort Pro'\n",
        "# Enter your access token here\n",
        "ACCESS_TOKEN = Zb_Promo\n",
        "\n",
        "def add_bots_to_groups():\n",
        "    # Define the API endpoint and headers\n",
        "    bot_url = f'https://api.groupme.com/v3/bots?token={ACCESS_TOKEN}'\n",
        "    headers = {'Content-Type': 'application/json'}\n",
        "\n",
        "    # Define the bot payload\n",
        "    payload = {\n",
        "        'bot': {\n",
        "            'name': Bot_Name,\n",
        "            'avatar_url': 'https://i.groupme.com/225x225.png.d628db9eb2e648f9bfa206caf4043bef',\n",
        "            'callback_url': ''\n",
        "        }\n",
        "    }\n",
        "\n",
        "    # Get a list of all the groups you're in\n",
        "    groups_url = f'https://api.groupme.com/v3/groups?token={ACCESS_TOKEN}'\n",
        "    response = requests.get(groups_url)\n",
        "    groups = response.json()['response']\n",
        "\n",
        "    Bots = []  # Initialize an empty array to store bot objects\n",
        "\n",
        "    # Loop through each group and add the bot to it\n",
        "    for group in groups:\n",
        "        group_id = group['id']\n",
        "        payload['bot']['group_id'] = group_id\n",
        "        response = requests.post(bot_url, headers=headers, data=json.dumps(payload))\n",
        "        if response.status_code == 201:\n",
        "            bot_id = response.json()['response']['bot']['bot_id']\n",
        "            print(f\"Bot 'Zort Pro' added to group '{group_id}' with ID '{bot_id}'.\")\n",
        "            bot_object = {'bot_id': bot_id, 'group_id': group_id}\n",
        "            Bots.append(bot_object)  # Save the bot object to the array\n",
        "        else:\n",
        "            print(f\"Error adding bot 'Zort Pro' to group '{group_id}'. Status code: {response.status_code}\")\n",
        "    \n",
        "    return Bots  # Return the array of bot objects\n",
        "\n",
        "# Call the function to add bots to groups and save the bot objects\n",
        "Bots = add_bots_to_groups()\n",
        "\n",
        "# Print the array of bot objects\n",
        "print(Bots)\n"
      ]
    },
    {
      "cell_type": "code",
      "source": [
        "#@title Get all Bots\n",
        "import requests\n",
        "\n",
        "# Enter your access token here\n",
        "\n",
        "# Define the API endpoint and headers\n",
        "url = f'https://api.groupme.com/v3/bots?token={ACCESS_TOKEN}'\n",
        "headers = {'Content-Type': 'application/json'}\n",
        "\n",
        "# Send a request to the endpoint\n",
        "response = requests.get(url, headers=headers)\n",
        "\n",
        "# Parse the JSON response and add bot data to the Bots array\n",
        "Bots = []\n",
        "if response.status_code == 200:\n",
        "    bot_data = response.json()['response']\n",
        "    print(bot_data)\n",
        "    for bot in bot_data:\n",
        "        bot_id = bot['bot_id']\n",
        "        group_id = bot['group_id']\n",
        "        bot_name = bot['name']\n",
        "        Bots.append({'bot_id': bot_id, 'group_id': group_id,'bot_name': bot_name})\n",
        "        print(f\"Bot ID: {bot_id}, Group ID: {group_id},'bot_name': {bot_name}\")\n",
        "else:\n",
        "    print(f\"Error getting bot data. Status code: {response.status_code}\")\n",
        "print(Bots)"
      ],
      "metadata": {
        "colab": {
          "base_uri": "https://localhost:8080/"
        },
        "id": "M7XdI-triXPI",
        "outputId": "735011bf-a235-4716-a759-aac34cbb88e7"
      },
      "execution_count": 30,
      "outputs": [
        {
          "output_type": "stream",
          "name": "stdout",
          "text": [
            "[{'name': 'GORT', 'bot_id': 'c313a7bc0697e67e38646e1b1a', 'group_id': '91204401', 'group_name': '🪙FAMU - FSU CHAT🪙 TALLAHASSEE ✅️', 'avatar_url': 'https://i.groupme.com/300x239.jpeg.81a3b79b1d124745ab8ab0d9a4c15e95.large', 'callback_url': 'https://botsol.net/bots/gort.cgi?tok=foO55vGp&gcid=91204401', 'dm_notification': False, 'active': True}, {'name': 'GORT', 'bot_id': '70c30846cf5a09cbf309cffef2', 'group_id': '91209188', 'group_name': '🧿COLLEGE CONNECT  | TALLY🧿', 'avatar_url': 'https://i.groupme.com/300x239.jpeg.81a3b79b1d124745ab8ab0d9a4c15e95.large', 'callback_url': 'https://botsol.net/bots/gort.cgi?tok=c1iWUpz0&gcid=91209188', 'dm_notification': False, 'active': True}, {'name': 'GORT', 'bot_id': '1420d67ceca45422b06f757c2a', 'group_id': '91209136', 'group_name': '🕷Silk ROAD | Acess To The DARK NET 🕷 TRUSTED ONLY 🔐', 'avatar_url': 'https://i.groupme.com/300x239.jpeg.81a3b79b1d124745ab8ab0d9a4c15e95.large', 'callback_url': 'https://botsol.net/bots/gort.cgi?tok=SZ9yzxDs&gcid=91209136', 'dm_notification': False, 'active': True}, {'name': 'GORT', 'bot_id': '6039fed25e28578d45b423439f', 'group_id': '91207207', 'group_name': '🌈VELVET ROAD (RELOADED)🌈', 'avatar_url': 'https://i.groupme.com/300x239.jpeg.81a3b79b1d124745ab8ab0d9a4c15e95.large', 'callback_url': 'https://botsol.net/bots/gort.cgi?tok=axJMsLbm&gcid=91207207', 'dm_notification': False, 'active': True}, {'name': 'GORT', 'bot_id': '552c399219deb676e384018d7c', 'group_id': '91211459', 'group_name': '🪙PEACH CONNECT | ATL🪙 ✅️', 'avatar_url': 'https://i.groupme.com/300x239.jpeg.81a3b79b1d124745ab8ab0d9a4c15e95.large', 'callback_url': 'https://botsol.net/bots/gort.cgi?tok=UM4bzjkd&gcid=91211459', 'dm_notification': False, 'active': True}, {'name': 'GORT', 'bot_id': 'dc63ebefbe3f2318b38b0ce6dd', 'group_id': '91213838', 'group_name': '#🥤RED CUP University | ATL🥤', 'avatar_url': 'https://i.groupme.com/300x239.jpeg.81a3b79b1d124745ab8ab0d9a4c15e95.large', 'callback_url': 'https://botsol.net/bots/gort.cgi?tok=awZKtDg1&gcid=91213838', 'dm_notification': False, 'active': True}, {'name': 'GORT', 'bot_id': '7e0a87785807687458d0a6a583', 'group_id': '91203869', 'group_name': '🍩HOLY MOLY DONUT SHOP🍩', 'avatar_url': 'https://i.groupme.com/300x239.jpeg.81a3b79b1d124745ab8ab0d9a4c15e95.large', 'callback_url': 'https://botsol.net/bots/gort.cgi?tok=Cfp5Q9wk&gcid=91203869', 'dm_notification': False, 'active': True}, {'name': 'GORT', 'bot_id': '5eabefdd7c19fe3c90abf591d2', 'group_id': '91252909', 'group_name': '🪤PLUTONIUM239🪤', 'avatar_url': 'https://i.groupme.com/300x239.jpeg.81a3b79b1d124745ab8ab0d9a4c15e95.large', 'callback_url': 'https://botsol.net/bots/gort.cgi?tok=K8KWesq6&gcid=91252909', 'dm_notification': False, 'active': True}, {'name': 'GORT', 'bot_id': '44fbee267370bf62b02edd332b', 'group_id': '91431030', 'group_name': '🌠ALABAMA COLLEGE CONNECT🌠', 'avatar_url': 'https://i.groupme.com/300x239.jpeg.81a3b79b1d124745ab8ab0d9a4c15e95.large', 'callback_url': 'https://botsol.net/bots/gort.cgi?tok=kjxWHuEy&gcid=91431030', 'dm_notification': False, 'active': True}, {'name': 'GORT', 'bot_id': 'ada788fbe4d3d3363699fc7bfc', 'group_id': '91449681', 'group_name': 'ONE HBCU', 'avatar_url': 'https://i.groupme.com/300x239.jpeg.81a3b79b1d124745ab8ab0d9a4c15e95.large', 'callback_url': 'https://botsol.net/bots/gort.cgi?tok=mB1PRh77&gcid=91449681', 'dm_notification': False, 'active': True}, {'name': 'GORT', 'bot_id': '6d1c0e5a8a86026dcbbec2e9ce', 'group_id': '91470119', 'group_name': '💊Percocet Perpetrators 💊', 'avatar_url': 'https://i.groupme.com/300x239.jpeg.81a3b79b1d124745ab8ab0d9a4c15e95.large', 'callback_url': 'https://botsol.net/bots/gort.cgi?tok=xOd7ADWP&gcid=91470119', 'dm_notification': False, 'active': True}, {'name': 'GORT', 'bot_id': 'd058b20d428ab6c9a027a28d35', 'group_id': '91510953', 'group_name': 'SOUTH FLORIDA COLLEGE CONNECT', 'avatar_url': 'https://i.groupme.com/300x239.jpeg.81a3b79b1d124745ab8ab0d9a4c15e95.large', 'callback_url': 'https://botsol.net/bots/gort.cgi?tok=wnYRWBHp&gcid=91510953', 'dm_notification': False, 'active': True}, {'name': 'GORT', 'bot_id': '0426d981753c0816ab82641ecd', 'group_id': '91512963', 'group_name': '#🥤Red Cup University | TEXAS🥤COLLEGE CONNECT 🤝', 'avatar_url': 'https://i.groupme.com/300x239.jpeg.81a3b79b1d124745ab8ab0d9a4c15e95.large', 'callback_url': 'https://botsol.net/bots/gort.cgi?tok=4TSfKEML&gcid=91512963', 'dm_notification': False, 'active': True}, {'name': 'GORT', 'bot_id': '0e61964f6cc20904399c9a6ab0', 'group_id': '91644112', 'group_name': '🎉Tallahassee Events And Promo 🎉', 'avatar_url': 'https://i.groupme.com/300x239.jpeg.81a3b79b1d124745ab8ab0d9a4c15e95.large', 'callback_url': 'https://botsol.net/bots/gort.cgi?tok=z4v6owpH&gcid=91644112', 'dm_notification': False, 'active': True}, {'name': 'GORT', 'bot_id': 'afc5b46bf17f5317ad73f07e2e', 'group_id': '91766597', 'group_name': '✅️BLACK WALL STREET👨🏿\\u200d💻👨🏿\\u200d🏫👩🏿\\u200d🚀🦸🏾\\u200d♂️ Business | Subleasing | Rides', 'avatar_url': 'https://i.groupme.com/300x239.jpeg.81a3b79b1d124745ab8ab0d9a4c15e95.large', 'callback_url': 'https://botsol.net/bots/gort.cgi?tok=OfudZJD6&gcid=91766597', 'dm_notification': False, 'active': True}, {'name': 'GORT', 'bot_id': '3e863d4d55ca96f0dc0b1a2571', 'group_id': '91812828', 'group_name': '#🎓KSU MOVES ✅️', 'avatar_url': 'https://i.groupme.com/300x239.jpeg.81a3b79b1d124745ab8ab0d9a4c15e95.large', 'callback_url': 'https://botsol.net/bots/gort.cgi?tok=e6XDJzhN&gcid=91812828', 'dm_notification': False, 'active': True}, {'name': 'GORT', 'bot_id': '90b2c48e9fa85d8e5d98e48f92', 'group_id': '91210672', 'group_name': 'Group Mes', 'avatar_url': 'https://i.groupme.com/300x239.jpeg.81a3b79b1d124745ab8ab0d9a4c15e95.large', 'callback_url': 'https://botsol.net/bots/gort.cgi?tok=4Acn04wa&gcid=91210672', 'dm_notification': False, 'active': True}, {'name': 'ZoeRT(Gort 2.0)', 'bot_id': '53a543daed55c9d9a1d97112bd', 'group_id': '91204401', 'group_name': '🪙FAMU - FSU CHAT🪙 TALLAHASSEE ✅️', 'avatar_url': 'https://i.groupme.com/225x225.png.d628db9eb2e648f9bfa206caf4043bef', 'callback_url': '', 'dm_notification': False, 'active': True}, {'name': 'Zort Pro', 'bot_id': 'a612f1e74d5d65b0d1d62e74bb', 'group_id': '91211459', 'group_name': '🪙PEACH CONNECT | ATL🪙 ✅️', 'avatar_url': 'https://i.groupme.com/225x225.png.d628db9eb2e648f9bfa206caf4043bef', 'callback_url': '', 'dm_notification': False, 'active': True}, {'name': 'Zort Pro', 'bot_id': 'b252284a13c0e12176a5c4e257', 'group_id': '91431030', 'group_name': '🌠ALABAMA COLLEGE CONNECT🌠', 'avatar_url': 'https://i.groupme.com/225x225.png.d628db9eb2e648f9bfa206caf4043bef', 'callback_url': '', 'dm_notification': False, 'active': True}, {'name': 'Zort Pro', 'bot_id': '8674595c3032b9bd27708237b1', 'group_id': '92928984', 'group_name': 'MAN 4653 Group Project', 'avatar_url': 'https://i.groupme.com/225x225.png.d628db9eb2e648f9bfa206caf4043bef', 'callback_url': '', 'dm_notification': False, 'active': True}, {'name': 'Zort Pro', 'bot_id': '8787d7fead46129c67a7bf0dcf', 'group_id': '91640204', 'group_name': 'The Miami Spring Break - Sponsored by The Global HBCU Tour', 'avatar_url': 'https://i.groupme.com/225x225.png.d628db9eb2e648f9bfa206caf4043bef', 'callback_url': '', 'dm_notification': False, 'active': False}, {'name': 'Zort Pro', 'bot_id': '1186c02e196369c5514e9a364c', 'group_id': '46536936', 'group_name': 'One HBCU', 'avatar_url': 'https://i.groupme.com/225x225.png.d628db9eb2e648f9bfa206caf4043bef', 'callback_url': '', 'dm_notification': False, 'active': True}, {'name': 'Zort Pro', 'bot_id': '2629363a0f3565882c9c95d27a', 'group_id': '90437555', 'group_name': 'Drugs&Drops😵\\u200d💫', 'avatar_url': 'https://i.groupme.com/225x225.png.d628db9eb2e648f9bfa206caf4043bef', 'callback_url': '', 'dm_notification': False, 'active': True}, {'name': 'Zort Pro', 'bot_id': '6d292c7bf8e5e24d48d6612ad6', 'group_id': '92389757', 'group_name': 'Posted 24/7⛽️💨🔥', 'avatar_url': 'https://i.groupme.com/225x225.png.d628db9eb2e648f9bfa206caf4043bef', 'callback_url': '', 'dm_notification': False, 'active': True}, {'name': 'Zort Pro', 'bot_id': '7a2a51434615cf28ba7c06cfe4', 'group_id': '29789330', 'group_name': '(NO PROMOS)TALLY APT SUBLEASING/ROOMMATE/FURNITURE', 'avatar_url': 'https://i.groupme.com/225x225.png.d628db9eb2e648f9bfa206caf4043bef', 'callback_url': '', 'dm_notification': False, 'active': False}]\n",
            "Bot ID: c313a7bc0697e67e38646e1b1a, Group ID: 91204401,'bot_name': GORT\n",
            "Bot ID: 70c30846cf5a09cbf309cffef2, Group ID: 91209188,'bot_name': GORT\n",
            "Bot ID: 1420d67ceca45422b06f757c2a, Group ID: 91209136,'bot_name': GORT\n",
            "Bot ID: 6039fed25e28578d45b423439f, Group ID: 91207207,'bot_name': GORT\n",
            "Bot ID: 552c399219deb676e384018d7c, Group ID: 91211459,'bot_name': GORT\n",
            "Bot ID: dc63ebefbe3f2318b38b0ce6dd, Group ID: 91213838,'bot_name': GORT\n",
            "Bot ID: 7e0a87785807687458d0a6a583, Group ID: 91203869,'bot_name': GORT\n",
            "Bot ID: 5eabefdd7c19fe3c90abf591d2, Group ID: 91252909,'bot_name': GORT\n",
            "Bot ID: 44fbee267370bf62b02edd332b, Group ID: 91431030,'bot_name': GORT\n",
            "Bot ID: ada788fbe4d3d3363699fc7bfc, Group ID: 91449681,'bot_name': GORT\n",
            "Bot ID: 6d1c0e5a8a86026dcbbec2e9ce, Group ID: 91470119,'bot_name': GORT\n",
            "Bot ID: d058b20d428ab6c9a027a28d35, Group ID: 91510953,'bot_name': GORT\n",
            "Bot ID: 0426d981753c0816ab82641ecd, Group ID: 91512963,'bot_name': GORT\n",
            "Bot ID: 0e61964f6cc20904399c9a6ab0, Group ID: 91644112,'bot_name': GORT\n",
            "Bot ID: afc5b46bf17f5317ad73f07e2e, Group ID: 91766597,'bot_name': GORT\n",
            "Bot ID: 3e863d4d55ca96f0dc0b1a2571, Group ID: 91812828,'bot_name': GORT\n",
            "Bot ID: 90b2c48e9fa85d8e5d98e48f92, Group ID: 91210672,'bot_name': GORT\n",
            "Bot ID: 53a543daed55c9d9a1d97112bd, Group ID: 91204401,'bot_name': ZoeRT(Gort 2.0)\n",
            "Bot ID: a612f1e74d5d65b0d1d62e74bb, Group ID: 91211459,'bot_name': Zort Pro\n",
            "Bot ID: b252284a13c0e12176a5c4e257, Group ID: 91431030,'bot_name': Zort Pro\n",
            "Bot ID: 8674595c3032b9bd27708237b1, Group ID: 92928984,'bot_name': Zort Pro\n",
            "Bot ID: 8787d7fead46129c67a7bf0dcf, Group ID: 91640204,'bot_name': Zort Pro\n",
            "Bot ID: 1186c02e196369c5514e9a364c, Group ID: 46536936,'bot_name': Zort Pro\n",
            "Bot ID: 2629363a0f3565882c9c95d27a, Group ID: 90437555,'bot_name': Zort Pro\n",
            "Bot ID: 6d292c7bf8e5e24d48d6612ad6, Group ID: 92389757,'bot_name': Zort Pro\n",
            "Bot ID: 7a2a51434615cf28ba7c06cfe4, Group ID: 29789330,'bot_name': Zort Pro\n",
            "[{'bot_id': 'c313a7bc0697e67e38646e1b1a', 'group_id': '91204401', 'bot_name': 'GORT'}, {'bot_id': '70c30846cf5a09cbf309cffef2', 'group_id': '91209188', 'bot_name': 'GORT'}, {'bot_id': '1420d67ceca45422b06f757c2a', 'group_id': '91209136', 'bot_name': 'GORT'}, {'bot_id': '6039fed25e28578d45b423439f', 'group_id': '91207207', 'bot_name': 'GORT'}, {'bot_id': '552c399219deb676e384018d7c', 'group_id': '91211459', 'bot_name': 'GORT'}, {'bot_id': 'dc63ebefbe3f2318b38b0ce6dd', 'group_id': '91213838', 'bot_name': 'GORT'}, {'bot_id': '7e0a87785807687458d0a6a583', 'group_id': '91203869', 'bot_name': 'GORT'}, {'bot_id': '5eabefdd7c19fe3c90abf591d2', 'group_id': '91252909', 'bot_name': 'GORT'}, {'bot_id': '44fbee267370bf62b02edd332b', 'group_id': '91431030', 'bot_name': 'GORT'}, {'bot_id': 'ada788fbe4d3d3363699fc7bfc', 'group_id': '91449681', 'bot_name': 'GORT'}, {'bot_id': '6d1c0e5a8a86026dcbbec2e9ce', 'group_id': '91470119', 'bot_name': 'GORT'}, {'bot_id': 'd058b20d428ab6c9a027a28d35', 'group_id': '91510953', 'bot_name': 'GORT'}, {'bot_id': '0426d981753c0816ab82641ecd', 'group_id': '91512963', 'bot_name': 'GORT'}, {'bot_id': '0e61964f6cc20904399c9a6ab0', 'group_id': '91644112', 'bot_name': 'GORT'}, {'bot_id': 'afc5b46bf17f5317ad73f07e2e', 'group_id': '91766597', 'bot_name': 'GORT'}, {'bot_id': '3e863d4d55ca96f0dc0b1a2571', 'group_id': '91812828', 'bot_name': 'GORT'}, {'bot_id': '90b2c48e9fa85d8e5d98e48f92', 'group_id': '91210672', 'bot_name': 'GORT'}, {'bot_id': '53a543daed55c9d9a1d97112bd', 'group_id': '91204401', 'bot_name': 'ZoeRT(Gort 2.0)'}, {'bot_id': 'a612f1e74d5d65b0d1d62e74bb', 'group_id': '91211459', 'bot_name': 'Zort Pro'}, {'bot_id': 'b252284a13c0e12176a5c4e257', 'group_id': '91431030', 'bot_name': 'Zort Pro'}, {'bot_id': '8674595c3032b9bd27708237b1', 'group_id': '92928984', 'bot_name': 'Zort Pro'}, {'bot_id': '8787d7fead46129c67a7bf0dcf', 'group_id': '91640204', 'bot_name': 'Zort Pro'}, {'bot_id': '1186c02e196369c5514e9a364c', 'group_id': '46536936', 'bot_name': 'Zort Pro'}, {'bot_id': '2629363a0f3565882c9c95d27a', 'group_id': '90437555', 'bot_name': 'Zort Pro'}, {'bot_id': '6d292c7bf8e5e24d48d6612ad6', 'group_id': '92389757', 'bot_name': 'Zort Pro'}, {'bot_id': '7a2a51434615cf28ba7c06cfe4', 'group_id': '29789330', 'bot_name': 'Zort Pro'}]\n"
          ]
        }
      ]
    },
    {
      "cell_type": "code",
      "source": [
        "#@title Filter Bots\n",
        "import requests\n",
        "\n",
        "# Enter your access token here\n",
        "\n",
        "# Define the API endpoint and headers\n",
        "url = f'https://api.groupme.com/v3/bots?token={ACCESS_TOKEN}'\n",
        "headers = {'Content-Type': 'application/json'}\n",
        "\n",
        "# Send a request to the endpoint\n",
        "response = requests.get(url, headers=headers)\n",
        "\n",
        "# Parse the JSON response and add bot data to the Bots array\n",
        "filtered_bots = []\n",
        "if response.status_code == 200:\n",
        "    bot_data = response.json()['response']\n",
        "    print(bot_data)\n",
        "    for bot in bot_data:\n",
        "        bot_id = bot['bot_id']\n",
        "        group_id = bot['group_id']\n",
        "        bot_name = bot['name']\n",
        "        # Compare group IDs and remove duplicates with the name 'Gort'\n",
        "        if not any(b['group_id'] == group_id and b['bot_name'].startswith('Zo') for b in Bots if b['bot_name'] != 'Gort'):\n",
        "            filtered_bots.append({'bot_id': bot_id, 'group_id': group_id, 'bot_name': bot_name})\n",
        "            print(f\"Bot ID: {bot_id}, Group ID: {group_id}, Bot name: {bot_name}\")\n",
        "else:\n",
        "    print(f\"Error getting bot data. Status code: {response.status_code}\")\n",
        "print(filtered_bots)\n"
      ],
      "metadata": {
        "cellView": "form",
        "id": "bdExEcr-oSjV"
      },
      "execution_count": null,
      "outputs": []
    },
    {
      "cell_type": "code",
      "source": [
        "#@title Filter Bots 2\n",
        "\n",
        "def filter_bots(bots):\n",
        "    \"\"\"\n",
        "    Filters and removes duplicates from the Bots array by comparing group IDs and bot names.\n",
        "    Keeps only bot names starting with \"Zo\" and removes those starting with \"Gort\".\n",
        "\n",
        "    Args:\n",
        "        bots (list): A list of bot objects, where each object contains a 'bot_id', 'group_id', and 'bot_name'.\n",
        "\n",
        "    Returns:\n",
        "        list: The filtered Bots array with duplicates removed and bot names filtered.\n",
        "    \"\"\"\n",
        "    filtered_bots = []\n",
        "    seen_groups = set()\n",
        "\n",
        "    for bot in bots:\n",
        "        if bot['bot_name'].startswith('Gort'):\n",
        "            continue\n",
        "        if bot['group_id'] in seen_groups:\n",
        "            continue\n",
        "        if 'Zo' not in bot['bot_name']:\n",
        "            continue\n",
        "        filtered_bots.append(bot)\n",
        "        seen_groups.add(bot['group_id'])\n",
        "\n",
        "    return filtered_bots\n",
        "filtered_bots = filter_bots(Bots)\n",
        "print(filtered_bots)"
      ],
      "metadata": {
        "colab": {
          "base_uri": "https://localhost:8080/"
        },
        "cellView": "form",
        "id": "uSxc7cGpniV-",
        "outputId": "e201f3d6-2081-4aea-f341-0a3881e5cdf1"
      },
      "execution_count": 59,
      "outputs": [
        {
          "output_type": "stream",
          "name": "stdout",
          "text": [
            "[{'bot_id': '53a543daed55c9d9a1d97112bd', 'group_id': '91204401', 'bot_name': 'ZoeRT(Gort 2.0)'}, {'bot_id': 'a612f1e74d5d65b0d1d62e74bb', 'group_id': '91211459', 'bot_name': 'Zort Pro'}, {'bot_id': 'b252284a13c0e12176a5c4e257', 'group_id': '91431030', 'bot_name': 'Zort Pro'}, {'bot_id': '8674595c3032b9bd27708237b1', 'group_id': '92928984', 'bot_name': 'Zort Pro'}, {'bot_id': '8787d7fead46129c67a7bf0dcf', 'group_id': '91640204', 'bot_name': 'Zort Pro'}, {'bot_id': '1186c02e196369c5514e9a364c', 'group_id': '46536936', 'bot_name': 'Zort Pro'}, {'bot_id': '2629363a0f3565882c9c95d27a', 'group_id': '90437555', 'bot_name': 'Zort Pro'}, {'bot_id': '6d292c7bf8e5e24d48d6612ad6', 'group_id': '92389757', 'bot_name': 'Zort Pro'}, {'bot_id': '7a2a51434615cf28ba7c06cfe4', 'group_id': '29789330', 'bot_name': 'Zort Pro'}]\n"
          ]
        }
      ]
    },
    {
      "cell_type": "code",
      "execution_count": 60,
      "metadata": {
        "colab": {
          "base_uri": "https://localhost:8080/"
        },
        "id": "amv4xPlSYIVw",
        "outputId": "9ec9d825-2de3-40a2-e6bf-0fea6cba651b"
      },
      "outputs": [
        {
          "output_type": "stream",
          "name": "stdout",
          "text": [
            "Message sent by bot '53a543daed55c9d9a1d97112bd' to group '91204401'.\n",
            "Message sent by bot 'a612f1e74d5d65b0d1d62e74bb' to group '91211459'.\n",
            "Message sent by bot 'b252284a13c0e12176a5c4e257' to group '91431030'.\n",
            "Message sent by bot '8674595c3032b9bd27708237b1' to group '92928984'.\n",
            "Error sending message by bot '8787d7fead46129c67a7bf0dcf' to group '91640204'. Status code: 403\n",
            "Message sent by bot '1186c02e196369c5514e9a364c' to group '46536936'.\n",
            "Message sent by bot '2629363a0f3565882c9c95d27a' to group '90437555'.\n",
            "Message sent by bot '6d292c7bf8e5e24d48d6612ad6' to group '92389757'.\n",
            "Error sending message by bot '7a2a51434615cf28ba7c06cfe4' to group '29789330'. Status code: 403\n"
          ]
        }
      ],
      "source": [
        "\n",
        "#@title One time Post\n",
        "import time\n",
        "def send_message_to_groups(auth_token, bots, message):\n",
        "    \"\"\"\n",
        "    Sends a message to the specified GroupMe groups via the corresponding bots.\n",
        "\n",
        "    Args:\n",
        "        auth_token (str): The GroupMe access token for authentication.\n",
        "        bots (list): A list of bot objects, where each object contains a 'bot_id' and 'group_id'.\n",
        "        message (str): The message to be sent to the groups.\n",
        "\n",
        "    Returns:\n",
        "        None\n",
        "    \"\"\"\n",
        "    url = 'https://api.groupme.com/v3/bots/post'\n",
        "    headers = {'Content-Type': 'application/json', 'X-Access-Token': auth_token}\n",
        "    payload = {'text': message, 'attachments': []}\n",
        "\n",
        "    for i,bot in enumerate(bots):\n",
        "        bot_id = bot['bot_id']\n",
        "        group_id = bot['group_id']\n",
        "        payload['bot_id'] = bot_id\n",
        "        if(i > 1):\n",
        "          time.sleep(1)\n",
        "          response = requests.post(url, headers=headers, data=json.dumps(payload))\n",
        "          if response.status_code == 202:\n",
        "              print(f\"Message sent by bot '{bot_id}' to group '{group_id}'.\")\n",
        "          else:\n",
        "              print(f\"Error sending message by bot '{bot_id}' to group '{group_id}'. Status code: {response.status_code}\")\n",
        "\n",
        "        else:    \n",
        "          response = requests.post(url, headers=headers, data=json.dumps(payload))\n",
        "          if response.status_code == 202:\n",
        "              print(f\"Message sent by bot '{bot_id}' to group '{group_id}'.\")\n",
        "          else:\n",
        "              print(f\"Error sending message by bot '{bot_id}' to group '{group_id}'. Status code: {response.status_code}\")\n",
        "\n",
        "message = formatted_text\n",
        "\n",
        "send_message_to_groups(ACCESS_TOKEN, filtered_bots, message)\n"
      ]
    },
    {
      "cell_type": "code",
      "source": [
        "#@title  Post Message Periodically \n",
        "import time\n",
        "\n",
        "post_interval = 1\n",
        "def post_periodically(post_interval):\n",
        "    \"\"\"\n",
        "    Posts a message to the specified GroupMe groups via the corresponding bots\n",
        "    every specified number of hours.\n",
        "\n",
        "    Args:\n",
        "        auth_token (str): The GroupMe access token for authentication.\n",
        "        bots (list): A list of bot objects, where each object contains a 'bot_id' and 'group_id'.\n",
        "        message (str): The message to be sent to the groups.\n",
        "        post_interval (int): The number of hours to wait between each post.\n",
        "\n",
        "    Returns:\n",
        "        None\n",
        "    \"\"\"\n",
        "    while True:\n",
        "        time.sleep(post_interval * 3600)\n",
        "        send_message_to_groups(ACCESS_TOKEN, Bots, message)\n",
        "        \n",
        "\n",
        "post_periodically(post_interval)\n"
      ],
      "metadata": {
        "colab": {
          "base_uri": "https://localhost:8080/",
          "height": 321
        },
        "id": "cL4h16WBlBF9",
        "outputId": "c26b7b26-9f14-43f3-d154-5aedc507fe71"
      },
      "execution_count": 61,
      "outputs": [
        {
          "output_type": "error",
          "ename": "KeyboardInterrupt",
          "evalue": "ignored",
          "traceback": [
            "\u001b[0;31m---------------------------------------------------------------------------\u001b[0m",
            "\u001b[0;31mKeyboardInterrupt\u001b[0m                         Traceback (most recent call last)",
            "\u001b[0;32m<ipython-input-61-02615e145d3c>\u001b[0m in \u001b[0;36m<module>\u001b[0;34m\u001b[0m\n\u001b[1;32m     22\u001b[0m \u001b[0;34m\u001b[0m\u001b[0m\n\u001b[1;32m     23\u001b[0m \u001b[0;34m\u001b[0m\u001b[0m\n\u001b[0;32m---> 24\u001b[0;31m \u001b[0mpost_periodically\u001b[0m\u001b[0;34m(\u001b[0m\u001b[0mpost_interval\u001b[0m\u001b[0;34m)\u001b[0m\u001b[0;34m\u001b[0m\u001b[0;34m\u001b[0m\u001b[0m\n\u001b[0m",
            "\u001b[0;32m<ipython-input-61-02615e145d3c>\u001b[0m in \u001b[0;36mpost_periodically\u001b[0;34m(post_interval)\u001b[0m\n\u001b[1;32m     18\u001b[0m     \"\"\"\n\u001b[1;32m     19\u001b[0m     \u001b[0;32mwhile\u001b[0m \u001b[0;32mTrue\u001b[0m\u001b[0;34m:\u001b[0m\u001b[0;34m\u001b[0m\u001b[0;34m\u001b[0m\u001b[0m\n\u001b[0;32m---> 20\u001b[0;31m         \u001b[0mtime\u001b[0m\u001b[0;34m.\u001b[0m\u001b[0msleep\u001b[0m\u001b[0;34m(\u001b[0m\u001b[0mpost_interval\u001b[0m \u001b[0;34m*\u001b[0m \u001b[0;36m3600\u001b[0m\u001b[0;34m)\u001b[0m\u001b[0;34m\u001b[0m\u001b[0;34m\u001b[0m\u001b[0m\n\u001b[0m\u001b[1;32m     21\u001b[0m         \u001b[0msend_message_to_groups\u001b[0m\u001b[0;34m(\u001b[0m\u001b[0mACCESS_TOKEN\u001b[0m\u001b[0;34m,\u001b[0m \u001b[0mBots\u001b[0m\u001b[0;34m,\u001b[0m \u001b[0mmessage\u001b[0m\u001b[0;34m)\u001b[0m\u001b[0;34m\u001b[0m\u001b[0;34m\u001b[0m\u001b[0m\n\u001b[1;32m     22\u001b[0m \u001b[0;34m\u001b[0m\u001b[0m\n",
            "\u001b[0;31mKeyboardInterrupt\u001b[0m: "
          ]
        }
      ]
    },
    {
      "cell_type": "code",
      "execution_count": null,
      "metadata": {
        "id": "78wLtlkEJyeY",
        "cellView": "form"
      },
      "outputs": [],
      "source": [
        "#@title Post Interval Deprecated\n",
        "# import requests\n",
        "# import time\n",
        "# import json\n",
        "\n",
        "# Zb_Promo = \"sfWtsmhMR1II4z7WKxPqtXXV7ny10lM1SDnn0QbV\"\n",
        "# Twin_Nem =  \"tL3KIMhqTZO1mfpkzoqhgHhMcT1dHaQaLwwhbHPF\"\n",
        "\n",
        "\n",
        "# ACCESS_TOKEN = 'YOUR_ACCESS_TOKEN_HERE'\n",
        "\n",
        "\n",
        "# # Set the interval between posts (in seconds)\n",
        "# POST_INTERVAL = 60 * 60  # One hour\n",
        "\n",
        "# ACCESS_TOKEN = Zb_Promo\n",
        "# def get_groups():\n",
        "#     \"\"\"Get a list of all the groups the authenticated user is a member of.\"\"\"\n",
        "#     response = requests.get('https://api.groupme.com/v3/groups', params={'token': ACCESS_TOKEN })\n",
        "#     return response.json()['response']\n",
        "\n",
        "# def post_message(group_id, message):\n",
        "#     \"\"\"Post a message to a group.\"\"\"\n",
        "#     data = {\n",
        "#         'bot_id': Zort,  # Let GroupMe create a bot for us\n",
        "#         'text': message,\n",
        "#     }\n",
        "#     url = f'https://api.groupme.com/v3/groups/{group_id}/messages'\n",
        "#     response = requests.post(url, json=data, params={'token': ACCESS_TOKEN})\n",
        "#     print(response)\n",
        "#     return response.status_code\n",
        "\n",
        "# # if __name__ == '__main__':\n",
        "# #     groups = get_groups()\n",
        "# #     for group in groups:\n",
        "# #         group_id = group['id']\n",
        "# #         print(f'Posting message to group {group[\"name\"]} ({group_id})')\n",
        "# #         post_message(group_id, MESSAGE)\n",
        "# #     while True:\n",
        "# #         time.sleep(POST_INTERVAL)\n",
        "# #         for group in groups:\n",
        "# #             group_id = group['id']\n",
        "# #             print(f'Posting message to group {group[\"name\"]} ({group_id})')\n",
        "# #             post_message(group_id, MESSAGE)\n",
        "# post_message(91211459, MESSAGE)"
      ]
    },
    {
      "cell_type": "code",
      "source": [
        "#@title Clean Bots 2\n",
        "\n",
        "\n",
        "bots = [{'bot_id': '70c30846cf5a09cbf309cffef2', 'group_id': '91209188', 'bot_name': 'GORT'},         {'bot_id': '1420d67ceca45422b06f757c2a', 'group_id': '91209136', 'bot_name': 'GORT'},         {'bot_id': '6039fed25e28578d45b423439f', 'group_id': '91207207', 'bot_name': 'GORT'},         {'bot_id': 'dc63ebefbe3f2318b38b0ce6dd', 'group_id': '91213838', 'bot_name': 'GORT'},         {'bot_id': '7e0a87785807687458d0a6a583', 'group_id': '91203869', 'bot_name': 'GORT'},         {'bot_id': '5eabefdd7c19fe3c90abf591d2', 'group_id': '91252909', 'bot_name': 'ZoBot'},         {'bot_id': 'ada788fbe4d3d3363699fc7bfc', 'group_id': '91449681', 'bot_name': 'GORT'},         {'bot_id': '6d1c0e5a8a86026dcbbec2e9ce', 'group_id': '91470119', 'bot_name': 'GORT'},         {'bot_id': 'd058b20d428ab6c9a027a28d35', 'group_id': '91510953', 'bot_name': 'Zoey'},         {'bot_id': '0426d981753c0816ab82641ecd', 'group_id': '91512963', 'bot_name': 'GORT'},         {'bot_id': '0e61964f6cc20904399c9a6ab0', 'group_id': '91644112', 'bot_name': 'GORT'},         {'bot_id': 'afc5b46bf17f5317ad73f07e2e', 'group_id': '91766597', 'bot_name': 'GORT'},         {'bot_id': '3e863d4d55ca96f0dc0b1a2571', 'group_id': '91812828', 'bot_name': 'GORT'},         {'bot_id': '90b2c48e9fa85d8e5d98e48f92', 'group_id': '91210672', 'bot_name': 'GORT'}]\n",
        "\n",
        "unique_bots = {}\n",
        "for bot in filtered_bots:\n",
        "    if bot['group_id'] not in unique_bots.keys():\n",
        "        if ('Zo') in bot['bot_name']:\n",
        "            unique_bots[bot['group_id']] = bot\n",
        "    else:\n",
        "        if bot['bot_name'].startswith('Zo'):\n",
        "            unique_bots[bot['group_id']] = bot\n",
        "\n",
        "unique_bots = list(unique_bots.values())\n",
        "print(unique_bots)\n"
      ],
      "metadata": {
        "colab": {
          "base_uri": "https://localhost:8080/"
        },
        "cellView": "form",
        "id": "2Twh4P1IsDoX",
        "outputId": "0578e9e5-2493-401f-b69b-92c152e59aea"
      },
      "execution_count": 39,
      "outputs": [
        {
          "output_type": "stream",
          "name": "stdout",
          "text": [
            "[{'bot_id': '53a543daed55c9d9a1d97112bd', 'group_id': '91204401', 'bot_name': 'ZoeRT(Gort 2.0)'}, {'bot_id': 'a612f1e74d5d65b0d1d62e74bb', 'group_id': '91211459', 'bot_name': 'Zort Pro'}, {'bot_id': 'b252284a13c0e12176a5c4e257', 'group_id': '91431030', 'bot_name': 'Zort Pro'}, {'bot_id': '8674595c3032b9bd27708237b1', 'group_id': '92928984', 'bot_name': 'Zort Pro'}, {'bot_id': '8787d7fead46129c67a7bf0dcf', 'group_id': '91640204', 'bot_name': 'Zort Pro'}, {'bot_id': '1186c02e196369c5514e9a364c', 'group_id': '46536936', 'bot_name': 'Zort Pro'}, {'bot_id': '2629363a0f3565882c9c95d27a', 'group_id': '90437555', 'bot_name': 'Zort Pro'}, {'bot_id': '6d292c7bf8e5e24d48d6612ad6', 'group_id': '92389757', 'bot_name': 'Zort Pro'}, {'bot_id': '7a2a51434615cf28ba7c06cfe4', 'group_id': '29789330', 'bot_name': 'Zort Pro'}]\n"
          ]
        }
      ]
    },
    {
      "cell_type": "code",
      "source": [
        "#@title Get group name from id\n",
        "import requests\n",
        "import json\n",
        "\n",
        "group_id = \"91211459\"  # replace with your group ID\n",
        "access_token = ACCESS_TOKEN  # replace with your access token\n",
        "\n",
        "url = f\"https://api.groupme.com/v3/groups/{group_id}?token={access_token}\"\n",
        "response = requests.get(url).json()\n",
        "\n",
        "if response[\"meta\"][\"code\"] == 200:\n",
        "    group_name = response[\"response\"][\"name\"]\n",
        "    group_url = response[\"response\"][\"share_url\"]\n",
        "    # print(response)\n",
        "    print(f\"Group name: {group_name}\")\n",
        "    print(f\"Group URL: {group_url}\")\n",
        "else:\n",
        "    print(\"Failed to retrieve group information.\")\n"
      ],
      "metadata": {
        "colab": {
          "base_uri": "https://localhost:8080/"
        },
        "cellView": "form",
        "id": "SAUf6eMutgi7",
        "outputId": "682699bb-84d2-4766-f706-9e478498c371"
      },
      "execution_count": 55,
      "outputs": [
        {
          "output_type": "stream",
          "name": "stdout",
          "text": [
            "Group name: 🪙PEACH CONNECT | ATL🪙 ✅️\n",
            "Group URL: None\n"
          ]
        }
      ]
    }
  ],
  "metadata": {
    "colab": {
      "provenance": [],
      "authorship_tag": "ABX9TyPz25mW/9SGMbVrfS2JBFdJ",
      "include_colab_link": true
    },
    "kernelspec": {
      "display_name": "Python 3",
      "name": "python3"
    },
    "language_info": {
      "name": "python"
    }
  },
  "nbformat": 4,
  "nbformat_minor": 0
}